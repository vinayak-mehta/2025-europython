{
 "cells": [
  {
   "cell_type": "code",
   "execution_count": null,
   "id": "2c35a30c-0445-4d0d-8ad3-50d893cd9438",
   "metadata": {
    "slideshow": {
     "slide_type": "slide"
    }
   },
   "outputs": [],
   "source": [
    "import gpxpy\n",
    "from shapely.geometry import Point\n",
    "\n",
    "with open(\"first_run.gpx\", \"r\") as gpx_contents:\n",
    "    gpx = gpxpy.parse(gpx_contents)\n",
    "\n",
    "run_points = []\n",
    "for track in gpx.tracks:\n",
    "    for segment in track.segments:\n",
    "        for point in segment.points:\n",
    "            run_points.append(Point(point.longitude, point.latitude))"
   ]
  },
  {
   "cell_type": "code",
   "execution_count": null,
   "id": "db836a54-322e-4e95-82a6-68250678158d",
   "metadata": {
    "slideshow": {
     "slide_type": "slide"
    }
   },
   "outputs": [],
   "source": [
    "from utils import display_points\n",
    "\n",
    "display_points(run_points)"
   ]
  },
  {
   "cell_type": "code",
   "execution_count": null,
   "id": "ce4dd15b-33f2-4d11-804f-0249d9985c3a",
   "metadata": {
    "slideshow": {
     "slide_type": "slide"
    }
   },
   "outputs": [],
   "source": [
    "import numpy as np\n",
    "from shapely.geometry import Point, LineString\n",
    "\n",
    "num_points = 1000\n",
    "run_line = LineString(run_points)\n",
    "distances = np.linspace(0, run_line.length, num=num_points)\n",
    "run_points = [\n",
    "    Point(run_line.interpolate(distance).coords[0])\n",
    "    for distance in distances\n",
    "]"
   ]
  },
  {
   "cell_type": "code",
   "execution_count": null,
   "id": "a32b41e7-d124-4b2b-8c99-75507e3bd9ac",
   "metadata": {
    "slideshow": {
     "slide_type": "slide"
    }
   },
   "outputs": [],
   "source": [
    "from utils import display_points\n",
    "\n",
    "display_points(run_points)"
   ]
  },
  {
   "cell_type": "code",
   "execution_count": null,
   "id": "c9aa0881-fba8-4e97-b025-0ea397e8523e",
   "metadata": {
    "slideshow": {
     "slide_type": "slide"
    }
   },
   "outputs": [],
   "source": [
    "from sqlalchemy import create_engine\n",
    "from sqlalchemy.orm import declarative_base, sessionmaker\n",
    "\n",
    "DATABASE_URL = \"postgresql://vinayak@localhost:5432/paris\"\n",
    "engine = create_engine(DATABASE_URL)\n",
    "Session = sessionmaker(bind=engine)\n",
    "session = Session()\n",
    "Base = declarative_base()"
   ]
  },
  {
   "cell_type": "code",
   "execution_count": null,
   "id": "65067300-443f-4f61-a150-919813a25564",
   "metadata": {
    "slideshow": {
     "slide_type": "slide"
    }
   },
   "outputs": [],
   "source": [
    "from sqlalchemy import Column, Float, Integer, String\n",
    "from geoalchemy2 import Geometry\n",
    "\n",
    "class Street(Base):\n",
    "    __tablename__ = \"streets\"\n",
    "    id = Column(Integer, primary_key=True, autoincrement=True)\n",
    "    name = Column(String)\n",
    "    geometry = Column(Geometry(\"MULTILINESTRING\", srid=4326))\n",
    "\n",
    "Base.metadata.create_all(engine)"
   ]
  },
  {
   "cell_type": "code",
   "execution_count": null,
   "id": "6c9fb679-ef2d-4a83-99f6-8ad8a1c5acd6",
   "metadata": {
    "slideshow": {
     "slide_type": "slide"
    }
   },
   "outputs": [],
   "source": [
    "streets = session.query(Street).all()\n",
    "print(f\"Found {len(streets)} streets in database\")"
   ]
  },
  {
   "cell_type": "code",
   "execution_count": null,
   "id": "e99547af-a07d-417c-a2cb-858d55216909",
   "metadata": {
    "scrolled": true,
    "slideshow": {
     "slide_type": "slide"
    }
   },
   "outputs": [],
   "source": [
    "from sqlalchemy import func\n",
    "from geoalchemy2 import WKTElement\n",
    "from geoalchemy2.shape import to_shape\n",
    "\n",
    "def match_points_to_streets(run_points):\n",
    "    street_points = {}\n",
    "    for point in run_points:\n",
    "        nearest_street = (\n",
    "            session.query(Street)\n",
    "            .order_by(\n",
    "                func.ST_Distance(\n",
    "                    Street.geometry,\n",
    "                    WKTElement(point.wkt, srid=4326)\n",
    "                )\n",
    "            ).first()\n",
    "        )\n",
    "    \n",
    "        if nearest_street:\n",
    "            if nearest_street.name not in street_points:\n",
    "                street_points[nearest_street.name] = { \"street\": nearest_street, \"points\": [] }\n",
    "    \n",
    "            street_geom = to_shape(nearest_street.geometry)\n",
    "            projected_point = street_geom.interpolate(\n",
    "                street_geom.project(point)\n",
    "            )\n",
    "\n",
    "            street_points[nearest_street.name][\"points\"].append(\n",
    "                projected_point\n",
    "            )\n",
    "\n",
    "    return street_points\n",
    "\n",
    "street_points = match_points_to_streets(run_points)"
   ]
  },
  {
   "cell_type": "code",
   "execution_count": null,
   "id": "6ae10aea-feeb-435c-95e5-94c832a463a8",
   "metadata": {
    "slideshow": {
     "slide_type": "slide"
    }
   },
   "outputs": [],
   "source": [
    "street_names = street_points.keys()\n",
    "street_names"
   ]
  },
  {
   "cell_type": "code",
   "execution_count": null,
   "id": "16e825c6-0371-448e-adca-feb7f01af013",
   "metadata": {
    "slideshow": {
     "slide_type": "slide"
    }
   },
   "outputs": [],
   "source": [
    "from utils import display_points\n",
    "\n",
    "all_matched_points = []\n",
    "for k, v in street_points.items():\n",
    "    all_matched_points.extend(v['points'])\n",
    "\n",
    "display_points(all_matched_points)"
   ]
  },
  {
   "cell_type": "code",
   "execution_count": null,
   "id": "729100f1-f642-4160-85ac-2119beb1d605",
   "metadata": {
    "slideshow": {
     "slide_type": "slide"
    }
   },
   "outputs": [],
   "source": [
    "class CoveredStreet(Base):\n",
    "    __tablename__ = \"covered_streets\"\n",
    "    id = Column(Integer, primary_key=True, autoincrement=True)\n",
    "    name = Column(String)\n",
    "    geometry = Column(Geometry(\"MULTILINESTRING\", srid=4326))\n",
    "    progress_percentage = Column(Float)\n",
    "\n",
    "Base.metadata.create_all(engine)"
   ]
  },
  {
   "cell_type": "code",
   "execution_count": null,
   "id": "50146da7-50d9-42b8-a14f-6e41c0975277",
   "metadata": {
    "slideshow": {
     "slide_type": "slide"
    }
   },
   "outputs": [],
   "source": [
    "from utils import convert_points_to_linestring, clip_linestring_to_street\n",
    "\n",
    "for street_name, data in street_points.items():\n",
    "    street_linestring = to_shape(data['street'].geometry)\n",
    "    points = data['points']\n",
    "\n",
    "    covered_linestring = convert_points_to_linestring(points)\n",
    "    covered_linestring = clip_linestring_to_street(covered_linestring, street_linestring)\n",
    "\n",
    "    progress = (\n",
    "        covered_linestring.length / street_linestring.length\n",
    "    ) * 100\n",
    "\n",
    "    covered_street = CoveredStreet(\n",
    "        name=street_name,\n",
    "        geometry=WKTElement(covered_linestring.wkt, srid=4326),\n",
    "        progress_percentage=progress\n",
    "    )\n",
    "    session.add(covered_street)\n",
    "\n",
    "    print(f\"{street_name}: {progress}\")\n",
    "\n",
    "session.commit()"
   ]
  },
  {
   "cell_type": "code",
   "execution_count": null,
   "id": "f8aaa7db-6853-4a63-9360-8646ed34677a",
   "metadata": {
    "slideshow": {
     "slide_type": "slide"
    }
   },
   "outputs": [],
   "source": [
    "from utils import display_covered_streets\n",
    "\n",
    "covered_streets = session.query(CoveredStreet).all()\n",
    "display_covered_streets(covered_streets)"
   ]
  },
  {
   "cell_type": "code",
   "execution_count": null,
   "id": "e24930ab-885e-4a2a-bde5-eb78ba82ef52",
   "metadata": {
    "slideshow": {
     "slide_type": "slide"
    }
   },
   "outputs": [],
   "source": [
    "total_streets = session.query(Street).count()\n",
    "covered_streets = session.query(CoveredStreet).filter(\n",
    "    CoveredStreet.progress_percentage >= 90\n",
    ").count()\n",
    "\n",
    "print(f\"Progress: {covered_streets} / {total_streets} streets\")"
   ]
  },
  {
   "cell_type": "code",
   "execution_count": null,
   "id": "b0232612-2f2b-4941-9e95-bdb64f5d4524",
   "metadata": {
    "slideshow": {
     "slide_type": "slide"
    }
   },
   "outputs": [],
   "source": [
    "import gpxpy\n",
    "from shapely.geometry import Point\n",
    "\n",
    "with open(\"second_run.gpx\", \"r\") as gpx_contents:\n",
    "    gpx = gpxpy.parse(gpx_contents)\n",
    "\n",
    "run_points = []\n",
    "for track in gpx.tracks:\n",
    "    for segment in track.segments:\n",
    "        for point in segment.points:\n",
    "            run_points.append(Point(point.longitude, point.latitude))"
   ]
  },
  {
   "cell_type": "code",
   "execution_count": null,
   "id": "155df558-cedb-4017-8230-254f1f9515b2",
   "metadata": {
    "slideshow": {
     "slide_type": "slide"
    }
   },
   "outputs": [],
   "source": [
    "from utils import display_points\n",
    "\n",
    "display_points(run_points)"
   ]
  },
  {
   "cell_type": "code",
   "execution_count": null,
   "id": "b1c33471-6f47-42ab-a7dc-66f7fef1d927",
   "metadata": {
    "slideshow": {
     "slide_type": "slide"
    }
   },
   "outputs": [],
   "source": [
    "import numpy as np\n",
    "from shapely.geometry import Point, LineString\n",
    "\n",
    "num_points = 1000\n",
    "run_line = LineString(run_points)\n",
    "distances = np.linspace(0, run_line.length, num=num_points)\n",
    "run_points = [\n",
    "    Point(run_line.interpolate(distance).coords[0])\n",
    "    for distance in distances\n",
    "]"
   ]
  },
  {
   "cell_type": "code",
   "execution_count": null,
   "id": "95b1a714-6c09-4cff-be4c-b71dea32211b",
   "metadata": {
    "slideshow": {
     "slide_type": "slide"
    }
   },
   "outputs": [],
   "source": [
    "from utils import display_points\n",
    "\n",
    "display_points(run_points)"
   ]
  },
  {
   "cell_type": "code",
   "execution_count": null,
   "id": "6ad935d2-270f-43a3-a313-6588478da851",
   "metadata": {
    "slideshow": {
     "slide_type": "slide"
    }
   },
   "outputs": [],
   "source": [
    "from sqlalchemy import func\n",
    "from geoalchemy2 import WKTElement\n",
    "from geoalchemy2.shape import to_shape\n",
    "\n",
    "def match_points_to_streets(run_points):\n",
    "    street_points = {}\n",
    "    for point in run_points:\n",
    "        nearest_street = (\n",
    "            session.query(Street)\n",
    "            .order_by(\n",
    "                func.ST_Distance(\n",
    "                    Street.geometry,\n",
    "                    WKTElement(point.wkt, srid=4326)\n",
    "                )\n",
    "            ).first()\n",
    "        )\n",
    "    \n",
    "        if nearest_street:\n",
    "            if nearest_street.name not in street_points:\n",
    "                street_points[nearest_street.name] = { \"street\": nearest_street, \"points\": [] }\n",
    "    \n",
    "            street_geom = to_shape(nearest_street.geometry)\n",
    "            projected_point = street_geom.interpolate(\n",
    "                street_geom.project(point)\n",
    "            )\n",
    "    \n",
    "            street_points[nearest_street.name][\"points\"].append(\n",
    "                projected_point\n",
    "            )\n",
    "\n",
    "    return street_points\n",
    "\n",
    "street_points = match_points_to_streets(run_points)"
   ]
  },
  {
   "cell_type": "code",
   "execution_count": null,
   "id": "a058fc0e-ad3e-4e8d-a53e-00984fd4d5c2",
   "metadata": {
    "slideshow": {
     "slide_type": "slide"
    }
   },
   "outputs": [],
   "source": [
    "street_names = street_points.keys()\n",
    "street_names"
   ]
  },
  {
   "cell_type": "code",
   "execution_count": null,
   "id": "024c707c-243a-4e79-bbd5-7479a1194766",
   "metadata": {
    "slideshow": {
     "slide_type": "slide"
    }
   },
   "outputs": [],
   "source": [
    "from utils import display_points\n",
    "\n",
    "all_matched_points = []\n",
    "for k, v in street_points.items():\n",
    "    all_matched_points.extend(v['points'])\n",
    "\n",
    "display_points(all_matched_points)"
   ]
  },
  {
   "cell_type": "code",
   "execution_count": null,
   "id": "403f933e-817e-4560-b6f0-c3aa6c8d9df3",
   "metadata": {
    "slideshow": {
     "slide_type": "slide"
    }
   },
   "outputs": [],
   "source": [
    "from utils import combine_linestrings, convert_points_to_linestring\n",
    "\n",
    "for street_name, data in street_points.items():\n",
    "    street_linestring = to_shape(data['street'].geometry)\n",
    "    points = data['points']\n",
    "\n",
    "    existing_covered_street = (\n",
    "        session.query(CoveredStreet).filter(\n",
    "            CoveredStreet.name == street_name\n",
    "        ).first()\n",
    "    )\n",
    "\n",
    "    covered_linestring = convert_points_to_linestring(points)\n",
    "    covered_linestring = clip_linestring_to_street(covered_linestring, street_linestring)\n",
    "\n",
    "    if existing_covered_street:\n",
    "        existing_linestring = to_shape(\n",
    "            existing_covered_street.geometry\n",
    "        )\n",
    "\n",
    "        combined_linestring = combine_linestrings(\n",
    "            existing_linestring,\n",
    "            covered_linestring\n",
    "        )\n",
    "        progress = (\n",
    "            combined_linestring.length / street_linestring.length\n",
    "        ) * 100\n",
    "        existing_covered_street.geometry = WKTElement(\n",
    "            combined_linestring.wkt, srid=4326\n",
    "        )\n",
    "        existing_covered_street.progress_percentage = progress\n",
    "\n",
    "        print(f\"{street_name}: {progress}\")\n",
    "\n",
    "session.commit()"
   ]
  },
  {
   "cell_type": "code",
   "execution_count": null,
   "id": "058a6408-1218-4d0b-acb5-e16b304eb248",
   "metadata": {
    "slideshow": {
     "slide_type": "slide"
    }
   },
   "outputs": [],
   "source": [
    "from utils import display_covered_streets\n",
    "\n",
    "covered_streets = session.query(CoveredStreet).all()\n",
    "display_covered_streets(covered_streets)"
   ]
  },
  {
   "cell_type": "code",
   "execution_count": null,
   "id": "9508ba33-8a65-40a9-9166-991d375155dc",
   "metadata": {
    "editable": true,
    "slideshow": {
     "slide_type": "slide"
    },
    "tags": []
   },
   "outputs": [],
   "source": [
    "total_streets = session.query(Street).count()\n",
    "covered_streets = session.query(CoveredStreet).filter(\n",
    "    CoveredStreet.progress_percentage >= 90\n",
    ").count()\n",
    "\n",
    "print(f\"Progress: {covered_streets} / {total_streets} streets\")"
   ]
  },
  {
   "cell_type": "code",
   "execution_count": null,
   "id": "3dce3808-1c6d-4054-9b41-d76df638ec2a",
   "metadata": {
    "editable": true,
    "slideshow": {
     "slide_type": "slide"
    },
    "tags": []
   },
   "outputs": [],
   "source": [
    "covered_streets = session.query(CoveredStreet).all()\n",
    "for covered_street in covered_streets:\n",
    "    print(f\"{covered_street.name}: {covered_street.progress_percentage}\")"
   ]
  }
 ],
 "metadata": {
  "celltoolbar": "Slideshow",
  "kernelspec": {
   "display_name": "Python 3 (ipykernel)",
   "language": "python",
   "name": "python3"
  },
  "language_info": {
   "codemirror_mode": {
    "name": "ipython",
    "version": 3
   },
   "file_extension": ".py",
   "mimetype": "text/x-python",
   "name": "python",
   "nbconvert_exporter": "python",
   "pygments_lexer": "ipython3",
   "version": "3.13.2"
  }
 },
 "nbformat": 4,
 "nbformat_minor": 5
}
