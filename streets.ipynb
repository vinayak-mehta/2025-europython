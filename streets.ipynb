{
 "cells": [
  {
   "cell_type": "code",
   "execution_count": null,
   "id": "de965cea-897f-4e8b-bcfa-749090b050a5",
   "metadata": {
    "slideshow": {
     "slide_type": "slide"
    },
    "tags": []
   },
   "outputs": [],
   "source": [
    "import osmnx as ox"
   ]
  },
  {
   "cell_type": "code",
   "execution_count": null,
   "id": "239a4e6a-9656-4557-8485-bef60dcc72b4",
   "metadata": {
    "slideshow": {
     "slide_type": "slide"
    },
    "tags": []
   },
   "outputs": [],
   "source": [
    "G = ox.graph_from_place(\"Paris, France\", network_type=\"walk\")"
   ]
  },
  {
   "cell_type": "code",
   "execution_count": null,
   "id": "70693d56-d7b8-4f4f-9e5c-0ca6c01958c8",
   "metadata": {
    "slideshow": {
     "slide_type": "slide"
    },
    "tags": []
   },
   "outputs": [],
   "source": [
    "from utils import display_network\n",
    "\n",
    "display_network(G)"
   ]
  },
  {
   "cell_type": "code",
   "execution_count": null,
   "id": "a329d58a-4037-47ad-9052-ec192cedec42",
   "metadata": {
    "slideshow": {
     "slide_type": "slide"
    }
   },
   "outputs": [],
   "source": [
    "G = ox.graph_from_place(\"Paris, France\", network_type=\"drive\")"
   ]
  },
  {
   "cell_type": "code",
   "execution_count": null,
   "id": "a679c238-cc62-4fdf-9e07-9dad706d4f27",
   "metadata": {
    "slideshow": {
     "slide_type": "slide"
    }
   },
   "outputs": [],
   "source": [
    "from utils import display_network\n",
    "\n",
    "display_network(G)"
   ]
  },
  {
   "cell_type": "code",
   "execution_count": null,
   "id": "661c39eb-ff61-45b6-88ce-a88e4c7c779f",
   "metadata": {
    "slideshow": {
     "slide_type": "slide"
    }
   },
   "outputs": [],
   "source": [
    "# https://github.com/matejker/everystreet\n",
    "\n",
    "CUSTOM_FILTER = (\n",
    "    '[\"highway\"][\"area\"!~\"yes\"][\"highway\"!~\"bridleway|bus_guideway|bus_stop|construction|'\n",
    "    \"cycleway|elevator|footway|motorway|motorway_junction|motorway_link|escalator|proposed|\"\n",
    "    'construction|platform|raceway|rest_area|path|service\"][\"access\"!~\"customers|no|private\"]'\n",
    "    '[\"public_transport\"!~\"platform\"][\"fee\"!~\"yes\"][\"foot\"!~\"no\"][\"service\"!~\"drive-through|'\n",
    "    'driveway|parking_aisle\"][\"toll\"!~\"yes\"]'\n",
    ")"
   ]
  },
  {
   "cell_type": "code",
   "execution_count": null,
   "id": "b6b4e595-94f1-460f-bd3f-9335e337f1a2",
   "metadata": {
    "slideshow": {
     "slide_type": "slide"
    }
   },
   "outputs": [],
   "source": [
    "G = ox.graph_from_place(\"Paris, France\", custom_filter=SIMPLE_FILTER)"
   ]
  },
  {
   "cell_type": "code",
   "execution_count": null,
   "id": "803d1eda-0706-462c-8fa8-82ef151613af",
   "metadata": {
    "slideshow": {
     "slide_type": "slide"
    }
   },
   "outputs": [],
   "source": [
    "from utils import display_network\n",
    "\n",
    "display_network(G)"
   ]
  },
  {
   "cell_type": "code",
   "execution_count": null,
   "id": "3886d2ca-19b1-4daf-8adb-ccf4231e7113",
   "metadata": {
    "slideshow": {
     "slide_type": "slide"
    }
   },
   "outputs": [],
   "source": [
    "streets = ox.graph_to_gdfs(G, nodes=False, edges=True)"
   ]
  },
  {
   "cell_type": "code",
   "execution_count": null,
   "id": "a7dd19fd-3010-4685-aa56-fba0a212b9f5",
   "metadata": {
    "slideshow": {
     "slide_type": "slide"
    }
   },
   "outputs": [],
   "source": [
    "streets.head()"
   ]
  },
  {
   "cell_type": "code",
   "execution_count": null,
   "id": "01ef82fd-f636-4684-8f22-94b80a30358f",
   "metadata": {
    "slideshow": {
     "slide_type": "slide"
    }
   },
   "outputs": [],
   "source": [
    "print(f\"NaN count: {streets['name'].isna().sum()}\")\n",
    "print(f\"List count: {streets['name'].apply(lambda x: isinstance(x, (list))).sum()}\")"
   ]
  },
  {
   "cell_type": "code",
   "execution_count": null,
   "id": "bf71da97-3630-4737-a852-bb940f057a4c",
   "metadata": {
    "slideshow": {
     "slide_type": "slide"
    }
   },
   "outputs": [],
   "source": [
    "from utils import ensure_string\n",
    "\n",
    "s = (streets.name.isna().cumsum() + 1).astype(int)\n",
    "streets[\"name\"] = streets[\"name\"].fillna(\"Unnamed street \" + s.astype(str))\n",
    "streets[\"name\"] = streets[\"name\"].apply(ensure_string)"
   ]
  },
  {
   "cell_type": "code",
   "execution_count": null,
   "id": "62a416b8-bb99-425e-8575-c55b2e3bb630",
   "metadata": {
    "slideshow": {
     "slide_type": "slide"
    }
   },
   "outputs": [],
   "source": [
    "print(f\"NaN count: {streets['name'].isna().sum()}\")\n",
    "print(f\"List count: {streets['name'].apply(lambda x: isinstance(x, (list))).sum()}\")"
   ]
  },
  {
   "cell_type": "code",
   "execution_count": null,
   "id": "d41736c6-f3a4-452c-a4f5-37dea14de7a6",
   "metadata": {
    "slideshow": {
     "slide_type": "slide"
    }
   },
   "outputs": [],
   "source": [
    "counts = streets['name'].value_counts()\n",
    "duplicates = counts[counts > 1]\n",
    "print(len(duplicates))"
   ]
  },
  {
   "cell_type": "code",
   "execution_count": null,
   "id": "72c9d03e-68c9-4737-ba8d-9c6c3fd4ca8c",
   "metadata": {
    "slideshow": {
     "slide_type": "slide"
    }
   },
   "outputs": [],
   "source": [
    "unique_streets = streets.dissolve(by=\"name\", as_index=False)\n",
    "unique_streets = unique_streets.to_crs(\"EPSG:4326\")"
   ]
  },
  {
   "cell_type": "code",
   "execution_count": null,
   "id": "b398fb8d-2e81-4d83-bd5c-97de7120be08",
   "metadata": {
    "slideshow": {
     "slide_type": "slide"
    }
   },
   "outputs": [],
   "source": [
    "counts = unique_streets['name'].value_counts()\n",
    "duplicates = counts[counts > 1]\n",
    "print(len(duplicates))"
   ]
  },
  {
   "cell_type": "code",
   "execution_count": null,
   "id": "721e6cff-3d02-4055-9f82-2f02c1218c10",
   "metadata": {
    "slideshow": {
     "slide_type": "slide"
    }
   },
   "outputs": [],
   "source": [
    "from sqlalchemy import create_engine\n",
    "from sqlalchemy.orm import declarative_base, sessionmaker\n",
    "\n",
    "DATABASE_URL = \"postgresql://vinayak@localhost:5432/paris\"\n",
    "engine = create_engine(DATABASE_URL)\n",
    "Session = sessionmaker(bind=engine)\n",
    "session = Session()\n",
    "Base = declarative_base()"
   ]
  },
  {
   "cell_type": "code",
   "execution_count": null,
   "id": "964a19a4-4a93-43c6-9c2b-43755dcd5433",
   "metadata": {
    "slideshow": {
     "slide_type": "slide"
    }
   },
   "outputs": [],
   "source": [
    "from sqlalchemy import Column, Float, Integer, String\n",
    "from geoalchemy2 import Geometry\n",
    "\n",
    "class Street(Base):\n",
    "    __tablename__ = \"streets\"\n",
    "    id = Column(Integer, primary_key=True, autoincrement=True)\n",
    "    name = Column(String)\n",
    "    geometry = Column(Geometry(\"MULTILINESTRING\", srid=4326))\n",
    "\n",
    "Base.metadata.create_all(engine)"
   ]
  },
  {
   "cell_type": "code",
   "execution_count": null,
   "id": "9ce3c8a1-218c-437c-bde3-ad4af766f341",
   "metadata": {
    "slideshow": {
     "slide_type": "slide"
    }
   },
   "outputs": [],
   "source": [
    "for _, row in unique_streets.iterrows():\n",
    "    street = Street(name=row[\"name\"], geometry=\"SRID=4326;\" + row[\"geometry\"].wkt)\n",
    "    session.add(street)\n",
    "    session.commit()"
   ]
  },
  {
   "cell_type": "code",
   "execution_count": null,
   "id": "77408cdc-f6b1-420e-b544-0df51d4f7f1d",
   "metadata": {
    "slideshow": {
     "slide_type": "slide"
    }
   },
   "outputs": [],
   "source": [
    "streets = session.query(Street).all()\n",
    "print(f\"Found {len(streets)} streets in database\")"
   ]
  }
 ],
 "metadata": {
  "celltoolbar": "Slideshow",
  "kernelspec": {
   "display_name": "Python 3 (ipykernel)",
   "language": "python",
   "name": "python3"
  },
  "language_info": {
   "codemirror_mode": {
    "name": "ipython",
    "version": 3
   },
   "file_extension": ".py",
   "mimetype": "text/x-python",
   "name": "python",
   "nbconvert_exporter": "python",
   "pygments_lexer": "ipython3",
   "version": "3.13.2"
  }
 },
 "nbformat": 4,
 "nbformat_minor": 5
}
